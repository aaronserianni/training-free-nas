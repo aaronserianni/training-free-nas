{
 "cells": [
  {
   "attachments": {},
   "cell_type": "markdown",
   "metadata": {},
   "source": [
    "## Make search space config file based off space parameters"
   ]
  },
  {
   "cell_type": "code",
   "execution_count": 25,
   "metadata": {},
   "outputs": [],
   "source": [
    "import json\n",
    "import random\n",
    "import copy\n",
    "\n",
    "# Set fixed seed\n",
    "random.seed(0)"
   ]
  },
  {
   "cell_type": "code",
   "execution_count": 26,
   "metadata": {},
   "outputs": [],
   "source": [
    "with open(\"search_space.json\", 'r') as f:\n",
    "    search_space = json.load(f)\n",
    "with open(\"config_template.json\", 'r') as f:\n",
    "    config_template = json.load(f)"
   ]
  },
  {
   "cell_type": "code",
   "execution_count": 27,
   "metadata": {},
   "outputs": [],
   "source": [
    "def get_config():\n",
    "    config = {}\n",
    "    config = copy.deepcopy(config_template)\n",
    "    \n",
    "    hidden_size = random.choice(search_space['hidden_size'])\n",
    "    num_encoder_layers = random.choice(search_space['num_encoder_layers'])\n",
    "    encoder_layers = []\n",
    "    for i in range(num_encoder_layers):\n",
    "        encoder_layer = {}\n",
    "        encoder_layer['operation_type'] = random.choice(search_space['encoder_layer']['operation_type'])\n",
    "        encoder_layer['operation_parameter'] = random.choice(search_space['encoder_layer'][encoder_layer['operation_type']])\n",
    "        encoder_layer['num_operation_heads'] = random.choice(search_space['encoder_layer']['num_operation_heads'])\n",
    "        encoder_layer['feed_forward_dimension'] = random.choice(search_space['encoder_layer']['feed_forward_dimension'])\n",
    "        encoder_layer['num_feed_forward'] = random.choice(search_space['encoder_layer']['num_feed_forward'])\n",
    "        encoder_layers.append(encoder_layer.copy())\n",
    "\n",
    "    config['hparams']['model_hparam_overrides']['hidden_size'] = hidden_size\n",
    "    config['hparams']['model_hparam_overrides']['nas_config']['encoder_layers'] = encoder_layers.copy()\n",
    "    return config"
   ]
  },
  {
   "cell_type": "code",
   "execution_count": 28,
   "metadata": {},
   "outputs": [],
   "source": [
    "configs = []\n",
    "for i in range(500):\n",
    "    config = {}\n",
    "    config = get_config()\n",
    "    config['id'] = i\n",
    "    configs.append(config)"
   ]
  },
  {
   "cell_type": "code",
   "execution_count": 29,
   "metadata": {},
   "outputs": [],
   "source": [
    "with open(\"nas_configs.json\", 'w') as f:\n",
    "    json.dump(configs, f)"
   ]
  }
 ],
 "metadata": {
  "kernelspec": {
   "display_name": "Python 3 (ipykernel)",
   "language": "python",
   "name": "python3"
  },
  "language_info": {
   "codemirror_mode": {
    "name": "ipython",
    "version": 3
   },
   "file_extension": ".py",
   "mimetype": "text/x-python",
   "name": "python",
   "nbconvert_exporter": "python",
   "pygments_lexer": "ipython3",
   "version": "3.9.13"
  },
  "vscode": {
   "interpreter": {
    "hash": "b0fa6594d8f4cbf19f97940f81e996739fb7646882a419484c72d19e05852a7e"
   }
  }
 },
 "nbformat": 4,
 "nbformat_minor": 4
}
