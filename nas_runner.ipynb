{
  "cells": [
    {
      "cell_type": "markdown",
      "metadata": {},
      "source": [
        "## Train models for NAS-Bench-BERT, on Google Collab with TPUs"
      ]
    },
    {
      "cell_type": "code",
      "execution_count": null,
      "metadata": {
        "colab": {
          "base_uri": "https://localhost:8080/"
        },
        "id": "WBzj8saQAK9s",
        "outputId": "6152d7cc-6b22-4093-a5fd-68f8d628cbd2"
      },
      "outputs": [],
      "source": [
        "# Enter Google Collab storage bucket information here\n",
        "project_id = \"\"\n",
        "bucket_name = \"\"\n",
        "from google.colab import auth\n",
        "\n",
        "auth.authenticate_user()\n",
        "\n",
        "!gcloud config set project {project_id}"
      ]
    },
    {
      "cell_type": "code",
      "execution_count": null,
      "metadata": {
        "colab": {
          "base_uri": "https://localhost:8080/",
          "height": 514
        },
        "id": "vkSJpFcevKNs",
        "outputId": "223b9758-52ab-41e2-f089-12eae3b64aad"
      },
      "outputs": [],
      "source": [
        "!pip install -U numpy==1.19.5\n",
        "%tensorflow_version 1.x\n",
        "\n",
        "import csv\n",
        "import json\n",
        "import os\n",
        "import time\n",
        "\n",
        "import regex as re\n",
        "from google.cloud import storage"
      ]
    },
    {
      "cell_type": "code",
      "execution_count": null,
      "metadata": {
        "id": "n0fcW3r3v1o-"
      },
      "outputs": [],
      "source": [
        "def download_configs():\n",
        "    client = storage.Client()\n",
        "    bucket = client.bucket(bucket_name)\n",
        "    blob = bucket.blob(\"BERT_benchmark.json\")\n",
        "    return json.loads(blob.download_as_string())"
      ]
    },
    {
      "cell_type": "code",
      "execution_count": null,
      "metadata": {
        "id": "timDSZkhv1o_"
      },
      "outputs": [],
      "source": [
        "def get_config():\n",
        "    configs = download_configs()\n",
        "    config = {}\n",
        "    for tempconfig in configs:\n",
        "        if not tempconfig[\"is_running\"] and not tempconfig[\"completed\"]:\n",
        "            config = tempconfig\n",
        "            break\n",
        "\n",
        "    hparams = config[\"hparams\"]\n",
        "    hparams[\"tpu_name\"] += os.environ[\"COLAB_TPU_ADDR\"]\n",
        "\n",
        "    with open(\"hparams.json\", \"w\") as f:\n",
        "        json.dump(hparams, f, indent=4)\n",
        "    \n",
        "    return config[\"id\"]"
      ]
    },
    {
      "cell_type": "code",
      "execution_count": null,
      "metadata": {
        "id": "izZ5QQuMv1o_"
      },
      "outputs": [],
      "source": [
        "def run_pretraining(config_id):\n",
        "    model_name = \"nas\" + str(config_id)\n",
        "    \n",
        "    client = storage.Client()\n",
        "    bucket = client.bucket(bucket_name)\n",
        "\n",
        "    configs = download_configs()\n",
        "    config = configs[config_id]\n",
        "\n",
        "    !gsutil -m rm -r gs://{bucket_name}/electra_data/models/{model_name}\n",
        "    \n",
        "    start_time = time.time()\n",
        "    config[\"is_running\"] = True\n",
        "\n",
        "    configs[config[\"id\"]] = config\n",
        "    blob = bucket.blob(\"BERT_benchmark.json\")\n",
        "    blob.upload_from_string(json.dumps(configs).encode('utf-8'))\n",
        "\n",
        "    !python tensorflow-model/run_pretraining.py --data-dir gs://{bucket_name}/electra_data/ --model-name {model_name} --hparams hparams.json\n",
        "    end_time = time.time()\n",
        "\n",
        "    configs = download_configs()\n",
        "    config = configs[config_id]\n",
        "    config[\"time_to_train\"] = end_time - start_time\n",
        "    config[\"is_running\"] = False\n",
        "    config[\"completed\"] = True\n",
        "\n",
        "    configs[config[\"id\"]] = config\n",
        "    blob = bucket.blob(\"BERT_benchmark.json\")\n",
        "    blob.upload_from_string(json.dumps(configs).encode('utf-8'))"
      ]
    },
    {
      "cell_type": "code",
      "execution_count": null,
      "metadata": {
        "id": "5aZ95Rltv1o_"
      },
      "outputs": [],
      "source": [
        "def run_finetuning(config_id):\n",
        "    model_name = \"nas\" + str(config_id)\n",
        "\n",
        "    !gsutil -m cp -nr gs://{bucket_name}/electra_data/finetuning_tfrecords gs://{bucket_name}/electra_data/models/{model_name}/\n",
        "\n",
        "    with open(\"hparams.json\", \"r\") as f:\n",
        "        hparams_finetuning = json.load(f)\n",
        "\n",
        "    hparams_finetuning[\"eval_batch_size\"] = 32\n",
        "    hparams_finetuning[\"train_batch_size\"] = 32\n",
        "    hparams_finetuning.pop(\"num_train_steps\")\n",
        "\n",
        "    glue_tasks = [\"cola\", \"mnli\", \"mrpc\", \"qnli\", \"qqp\", \"rte\", \"sst\", \"sts\"]\n",
        "\n",
        "    for task in glue_tasks:\n",
        "        hparams_finetuning[\"task_names\"] = [task]\n",
        "        hparams_finetuning[\"results_txt\"] = (\n",
        "            \"gs://\" + bucket_name + \"/electra_data/models/\"\n",
        "            + model_name\n",
        "            + \"/results/model.\"\n",
        "            + task\n",
        "            + \"_results.txt\"\n",
        "        )\n",
        "        with open(\"hparams_finetuning.json\", \"w\") as f:\n",
        "            json.dump(hparams_finetuning, f, indent=4)\n",
        "\n",
        "        !python3 tensorflow-model/run_finetuning.py --data-dir gs://{bucket_name}/electra_data/ --model-name {model_name} --hparams hparams_finetuning.json"
      ]
    },
    {
      "cell_type": "code",
      "execution_count": null,
      "metadata": {
        "id": "10FBbIvhv1pA"
      },
      "outputs": [],
      "source": [
        "def save_results(config_id):\n",
        "    model_name = \"nas\" + str(config_id)\n",
        "\n",
        "    client = storage.Client()\n",
        "    bucket = client.bucket(bucket_name)\n",
        "\n",
        "    glue_tasks = [\"cola\", \"mnli\", \"mrpc\", \"qnli\", \"qqp\", \"rte\", \"sst\", \"sts\"]\n",
        "\n",
        "    configs = download_configs()\n",
        "    config = configs[config_id]\n",
        "\n",
        "    glue_score = 0\n",
        "    for blob in bucket.list_blobs(\n",
        "        prefix=\"electra_data/models/\" + model_name + \"/results/model.\"\n",
        "    ):\n",
        "        contents = blob.download_as_string()\n",
        "        task = next(task for task in glue_tasks if task in blob.name)\n",
        "        if task is not None:\n",
        "            config[\"scores\"][task] = float(re.search(\"(?<= [a-z]+: ).*?(?= )\", str(contents)).group())\n",
        "            glue_score += config[\"scores\"][task]\n",
        "\n",
        "    config[\"scores\"][\"glue\"] = glue_score/len(glue_tasks)\n",
        "    configs[config[\"id\"]] = config\n",
        "    blob = bucket.blob(\"BERT_benchmark.json\")\n",
        "    blob.upload_from_string(json.dumps(configs).encode('utf-8'))"
      ]
    },
    {
      "cell_type": "code",
      "execution_count": null,
      "metadata": {
        "colab": {
          "background_save": true,
          "base_uri": "https://localhost:8080/"
        },
        "id": "0t-AUIF5v1pB",
        "outputId": "b3babcf8-0e79-42aa-b15a-94b191fe556d"
      },
      "outputs": [],
      "source": [
        "while(True):\n",
        "    config_id = get_config()\n",
        "    run_pretraining(config_id)\n",
        "    run_finetuning(config_id)\n",
        "    save_results(config_id)"
      ]
    }
  ],
  "metadata": {
    "accelerator": "TPU",
    "colab": {
      "background_execution": "on",
      "collapsed_sections": [],
      "name": "nas-runner",
      "provenance": []
    },
    "gpuClass": "standard",
    "kernelspec": {
      "display_name": "Python 3.9.13 64-bit",
      "language": "python",
      "name": "python3"
    },
    "language_info": {
      "codemirror_mode": {
        "name": "ipython",
        "version": 3
      },
      "file_extension": ".py",
      "mimetype": "text/x-python",
      "name": "python",
      "nbconvert_exporter": "python",
      "pygments_lexer": "ipython3",
      "version": "3.9.13"
    },
    "vscode": {
      "interpreter": {
        "hash": "b0fa6594d8f4cbf19f97940f81e996739fb7646882a419484c72d19e05852a7e"
      }
    }
  },
  "nbformat": 4,
  "nbformat_minor": 0
}
